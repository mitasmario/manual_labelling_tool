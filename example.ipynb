{
 "cells": [
  {
   "attachments": {},
   "cell_type": "markdown",
   "metadata": {},
   "source": [
    "# Manual labelling of data\n",
    "\n",
    "This document will demostrate example of text data labelling. There might occur such situations that freshly gathered data or even long time available dataset doesn't have labels. Lot of machine learning algorithms needs labels to train model on as response variable. But even rest, all unsupervised algorithms would utilize at least small volume of labeled validation data. Therefore labelling of some part of dataset is always useful. \n",
    "\n",
    "## Example dataset\n",
    "\n",
    "As example we will use 100 randomly selected answers from publicly available dataset [Yahoo Answers!](https://drive.google.com/drive/folders/0Bz8a_Dbh9Qhbfll6bVpmNUtUcFdjYmF2SEpmZUZUcVNiMUw1TWN6RDV3a0JHT3kxLVhVR2M). This popular dataset was used for many text classification white papers, although it already has labels it would be good for purpose of this showcase. Our task is to select lables of of 10 possible classes. In original dataset each answer have selected jus 1 class, however our tool can select even multiple classes."
   ]
  },
  {
   "cell_type": "code",
   "execution_count": 1,
   "metadata": {},
   "outputs": [],
   "source": [
    "import pickle\n",
    "# Load data with pickle library\n",
    "with open('data/text_data.pickle', 'rb') as saved_data:\n",
    "    text_list = pickle.load(saved_data)\n",
    "    \n",
    "# Since often we just want to label only smaller valume of data, we might want sample data. \n",
    "# It might be usefull to create id's to be able to match labeled part of dataset to rest.\n",
    "# In this case we just create list with values 1 to length of data as id's.\n",
    "id_list = [i+1 for i in range(len(text_list))] "
   ]
  },
  {
   "attachments": {},
   "cell_type": "markdown",
   "metadata": {},
   "source": [
    "Here are 10 classes that we can select from:"
   ]
  },
  {
   "cell_type": "code",
   "execution_count": 2,
   "metadata": {},
   "outputs": [],
   "source": [
    "label_list = ['Culture', 'Science and Mathematics', 'Health', 'Education and Reference',\n",
    "              'Computers and Internet', 'Sports', 'Entertainment', \"Business and Finance\",\n",
    "              'Family and Relationships', 'Government and Politics']"
   ]
  },
  {
   "attachments": {},
   "cell_type": "markdown",
   "metadata": {},
   "source": [
    "### Instructions\n",
    "\n",
    "Once we start labelling function it will loop through given data list. Each text from data will be presented to us together with list of options. User's task is just to select one of the options by typing correct number from displayed options. First option with number -2 is Exit from labelling. If user press this option program will shut down, all records that were so far labeled will be stored in the created database and user can return later and continue with next unlabeled record. Second option -1 gives user opportunity to add new label into label list, if user press this option prompt asking to input new label will appear and user must provide it. This label will be assigned to currently displayed record and from now on it will be showed in menu as a new option. Third option 0 should be used in time when user is finished with current record. If no label was provided then this record will be completely skipped from labeled database, otherwise selections will be recorded into database. Beside of these 3 options menu will write down all labels with given numbers from 1 to length of label_list. User must type number of selected label and press enter. Then the same menu will display again asking for another label, this will repeat one more time since we decided to allow up to 3 labels to single record. If it would be appropriate to have less than 3 labels, user must press 0 to finish labelling of current record. Otherwise program would ask 3 times for each record and then would continue with next record automatically."
   ]
  },
  {
   "cell_type": "code",
   "execution_count": 3,
   "metadata": {},
   "outputs": [
    {
     "name": "stdout",
     "output_type": "stream",
     "text": [
      "----------------------------------------\n",
      "NUMBER OF LABELS GIVEN TO CURRENT TEXT: 0/3.\n",
      "Already given labels: []\n",
      "----------------------------------------\n",
      "TEXT FOR LABELLING: \n",
      " 101.4 is really not that high.  Just make sure he's drinking plenty of fluids and taking some Tylenol.  Keep cold wash clothes on his forehead as well.  Keep an eye on the temperature and if it gets past 103 or so, I'd go to the ER.\n",
      "----------------------------------------\n",
      "PLEASE SELECT ONE OF FOLLOWING OPTIONS:\n",
      "-2.) Exit\n",
      "-1.) Add new class\n",
      "0.) Press 0 to finish labelling of current text\n",
      "1.) Culture\n",
      "2.) Science and Mathematics\n",
      "3.) Health\n",
      "4.) Education and Reference\n",
      "5.) Computers and Internet\n",
      "6.) Sports\n",
      "7.) Entertainment\n",
      "8.) Business and Finance\n",
      "9.) Family and Relationships\n",
      "10.) Government and Politics\n",
      "All used labels:\n",
      "['Culture', 'Science and Mathematics', 'Health', 'Education and Reference', 'Computers and Internet', 'Sports', 'Entertainment', 'Business and Finance', 'Family and Relationships', 'Government and Politics']\n"
     ]
    }
   ],
   "source": [
    "import manual_labelling\n",
    "random_seed = 123\n",
    "# if we are starting with labeling, create database from scratch.\n",
    "manual_labelling.start_labelling('data/database.sqlite', text_list, id_list, label_list, True, random_seed, True)\n",
    "\n",
    "# if we wish to continue with previously labeled database last argument of function must be changed to False\n",
    "# manual_labelling.start_labelling('data/database.sqlite', text_list, id_list, label_list, True, random_seed, False)"
   ]
  },
  {
   "attachments": {},
   "cell_type": "markdown",
   "metadata": {},
   "source": [
    "At this point we have database with few labeled records:"
   ]
  },
  {
   "cell_type": "code",
   "execution_count": 4,
   "metadata": {},
   "outputs": [
    {
     "name": "stdout",
     "output_type": "stream",
     "text": [
      "Text: \n",
      " One suggestion, the white text can be a bit bright and glaring to the eyes when first arriving to your site. Perhaps use a shade lighter #CCCCCC instead of #FFFFFF. Other than that, good job!\n",
      "Labels: \n",
      " ['Computers and Internet']\n",
      "****************************************\n",
      "Text: \n",
      " WELL IVE HAD ALOT OF BAD THINGS HAPPEN TO ME BUT THE WORST  2 THINGS 2 YRS AGO MY DAD DIED THE OTHER 2005 FOUND OUT I HAVE BREAST CANCER... GETTING TREATMENTS NOW CHEMO SURGERY RADATION HERPECTION...NOT OVER IT NEVER WILL BE,,,,DAD WONT BE OVER HIM EITHER,,, BUT I MANAGE TO GO THROUGH EACH DAY ...THINKING THERE IS A REASON FOR ME TO BE HERE,,,,AND I DONT NO WHAT IT COULD BE,,\n",
      "Labels: \n",
      " ['Health', 'Family and Relationships']\n",
      "****************************************\n",
      "Text: \n",
      " Yes....wait till you get married........lot less problems in life.\n",
      "Labels: \n",
      " ['Family and Relationships', 'Education and Reference']\n",
      "****************************************\n",
      "Text: \n",
      " Below are examples of tools available on the Web right now that can help marketers reach their segmented markets\\n\\nhttp://www.claritas.com/claritas/Default.jsp?ci=3&si=2&pn=mybestprospects\\nhttp://www.sric-bi.com/VALS/\\n\\nOther articles:\\nhttp://www.toolkit.cch.com/text/P03_1036.asp\n",
      "Labels: \n",
      " ['Computers and Internet', 'Business and Finance']\n",
      "****************************************\n",
      "Text: \n",
      " Yes there are angels, they are all through the Bible and tho we may not always see or hear them they are around. Hebrews 13:2, Be not forgetful to entertain strangers;  for whereby some have entertained angels unawares. Gen. 48:16 Psalms 8:5 We are made a little lower than the angels. Angels freed Acts 5:17 Acts 12:1-17 Acts16:22-35.  The Bible calls satan a dragon/serpent Genesis 3:1-24 And an Angel was placed in the garden. Also Revelations 20:2. And the Bible tells us people were sometimes demon possessed. Mathew 8:28-34, Mat 4:24 &12:22. You will find it all there if you have the courage to read the Bible.\n",
      "Labels: \n",
      " ['Culture']\n",
      "****************************************\n"
     ]
    }
   ],
   "source": [
    "import pandas as pd\n",
    "import sqlite3\n",
    "import ast\n",
    "\n",
    "# load labeled validation data\n",
    "db = sqlite3.connect(\"data/database.sqlite\")\n",
    "df = pd.read_sql_query(\"SELECT * FROM label_table\", db)\n",
    "db.close()\n",
    "\n",
    "# Now we can access labeled data and even transform labels into lists\n",
    "list_labels = df.apply(lambda row: ast.literal_eval(row[\"labels\"]), axis=1)\n",
    "for index, labels in enumerate(list_labels):\n",
    "    print(f\"Text: \\n {df.text.loc[index]}\")\n",
    "    print(f\"Labels: \\n {labels}\")\n",
    "    print(\"*\" * 40)"
   ]
  }
 ],
 "metadata": {
  "kernelspec": {
   "display_name": "venv",
   "language": "python",
   "name": "python3"
  },
  "language_info": {
   "codemirror_mode": {
    "name": "ipython",
    "version": 3
   },
   "file_extension": ".py",
   "mimetype": "text/x-python",
   "name": "python",
   "nbconvert_exporter": "python",
   "pygments_lexer": "ipython3",
   "version": "3.11.2"
  },
  "orig_nbformat": 4
 },
 "nbformat": 4,
 "nbformat_minor": 2
}
